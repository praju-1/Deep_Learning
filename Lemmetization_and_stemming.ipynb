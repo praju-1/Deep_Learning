{
 "cells": [
  {
   "cell_type": "code",
   "execution_count": 1,
   "id": "30021291",
   "metadata": {},
   "outputs": [],
   "source": [
    "s = [\"eating\", \"eats\", \"ate\", \"eat\", \"adjustable\", \"rafting\", \"ability\", \"meeting\"]"
   ]
  },
  {
   "cell_type": "code",
   "execution_count": 11,
   "id": "a497a537",
   "metadata": {},
   "outputs": [],
   "source": [
    "import spacy"
   ]
  },
  {
   "cell_type": "code",
   "execution_count": 12,
   "id": "badf0280",
   "metadata": {},
   "outputs": [],
   "source": [
    "nlp = spacy.load(\"en_core_web_sm\")"
   ]
  },
  {
   "cell_type": "code",
   "execution_count": 2,
   "id": "944443a2",
   "metadata": {},
   "outputs": [],
   "source": [
    "from nltk.stem import PorterStemmer"
   ]
  },
  {
   "cell_type": "code",
   "execution_count": 3,
   "id": "2d5d139a",
   "metadata": {},
   "outputs": [],
   "source": [
    "stemmer = PorterStemmer()"
   ]
  },
  {
   "cell_type": "code",
   "execution_count": 4,
   "id": "687470ff",
   "metadata": {},
   "outputs": [
    {
     "data": {
      "text/plain": [
       "'eat'"
      ]
     },
     "execution_count": 4,
     "metadata": {},
     "output_type": "execute_result"
    }
   ],
   "source": [
    "stemmer.stem(\"eating\")"
   ]
  },
  {
   "cell_type": "code",
   "execution_count": 5,
   "id": "34bc3691",
   "metadata": {},
   "outputs": [
    {
     "name": "stdout",
     "output_type": "stream",
     "text": [
      "eating - eat\n",
      "eats - eat\n",
      "ate - ate\n",
      "eat - eat\n",
      "adjustable - adjust\n",
      "rafting - raft\n",
      "ability - abil\n",
      "meeting - meet\n"
     ]
    }
   ],
   "source": [
    "for i in s:\n",
    "    print(i, \"-\", stemmer.stem(i))"
   ]
  },
  {
   "cell_type": "code",
   "execution_count": 6,
   "id": "1e41a085",
   "metadata": {},
   "outputs": [
    {
     "data": {
      "text/plain": [
       "['eating', 'eats', 'ate', 'eat', 'adjustable', 'rafting', 'ability', 'meeting']"
      ]
     },
     "execution_count": 6,
     "metadata": {},
     "output_type": "execute_result"
    }
   ],
   "source": [
    "s"
   ]
  },
  {
   "cell_type": "code",
   "execution_count": 16,
   "id": "c7bf5b06",
   "metadata": {},
   "outputs": [],
   "source": [
    "new = \" \".join(s)"
   ]
  },
  {
   "cell_type": "code",
   "execution_count": 17,
   "id": "58ce90dc",
   "metadata": {},
   "outputs": [
    {
     "data": {
      "text/plain": [
       "'eating eats ate eat adjustable rafting ability meeting'"
      ]
     },
     "execution_count": 17,
     "metadata": {},
     "output_type": "execute_result"
    }
   ],
   "source": [
    "new"
   ]
  },
  {
   "cell_type": "code",
   "execution_count": 18,
   "id": "62207587",
   "metadata": {},
   "outputs": [],
   "source": [
    "doc = nlp(new)"
   ]
  },
  {
   "cell_type": "code",
   "execution_count": 19,
   "id": "89e99fde",
   "metadata": {},
   "outputs": [
    {
     "data": {
      "text/plain": [
       "eating eats ate eat adjustable rafting ability meeting"
      ]
     },
     "execution_count": 19,
     "metadata": {},
     "output_type": "execute_result"
    }
   ],
   "source": [
    "doc"
   ]
  },
  {
   "cell_type": "code",
   "execution_count": 20,
   "id": "7e0882af",
   "metadata": {},
   "outputs": [
    {
     "name": "stdout",
     "output_type": "stream",
     "text": [
      "eating - eat\n",
      "eats - eat\n",
      "ate - ate\n",
      "eat - eat\n",
      "adjustable - adjustable\n",
      "rafting - raft\n",
      "ability - ability\n",
      "meeting - meeting\n"
     ]
    }
   ],
   "source": [
    "for i in doc:\n",
    "    print(i, \"-\", i.lemma_)"
   ]
  },
  {
   "cell_type": "code",
   "execution_count": 21,
   "id": "49482938",
   "metadata": {},
   "outputs": [
    {
     "data": {
      "text/plain": [
       "'farm'"
      ]
     },
     "execution_count": 21,
     "metadata": {},
     "output_type": "execute_result"
    }
   ],
   "source": [
    "s = nlp(\"farmed\")\n",
    "s0 = s[0]\n",
    "s0.lemma_"
   ]
  },
  {
   "cell_type": "code",
   "execution_count": 22,
   "id": "bcc7f046",
   "metadata": {},
   "outputs": [
    {
     "data": {
      "text/plain": [
       "15953978680795595187"
      ]
     },
     "execution_count": 22,
     "metadata": {},
     "output_type": "execute_result"
    }
   ],
   "source": [
    "s0.lemma"
   ]
  }
 ],
 "metadata": {
  "kernelspec": {
   "display_name": "Python 3 (ipykernel)",
   "language": "python",
   "name": "python3"
  },
  "language_info": {
   "codemirror_mode": {
    "name": "ipython",
    "version": 3
   },
   "file_extension": ".py",
   "mimetype": "text/x-python",
   "name": "python",
   "nbconvert_exporter": "python",
   "pygments_lexer": "ipython3",
   "version": "3.9.13"
  }
 },
 "nbformat": 4,
 "nbformat_minor": 5
}
