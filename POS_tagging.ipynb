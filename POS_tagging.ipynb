{
 "cells": [
  {
   "cell_type": "markdown",
   "id": "71a804c8",
   "metadata": {},
   "source": [
    "# Part of Speech (PoS) Tagging"
   ]
  },
  {
   "cell_type": "markdown",
   "id": "6193b443",
   "metadata": {},
   "source": [
    "- It is defined as the process of assigning one of the parts of speech to the given word\n",
    "- As we know parts of speech include nouns, verb, adverbs, adjectives, pronouns, conjunction and their sub-categories.\n"
   ]
  },
  {
   "cell_type": "code",
   "execution_count": 3,
   "id": "2126f440",
   "metadata": {},
   "outputs": [],
   "source": [
    "import spacy"
   ]
  },
  {
   "cell_type": "markdown",
   "id": "6415f69c",
   "metadata": {},
   "source": [
    "- There are various spaCy models for different languages. The default model for the English language is designated as en_core_web_sm. Since the models are quite large, it’s best to install them separately—including all languages in one package would make the download too massive."
   ]
  },
  {
   "cell_type": "markdown",
   "id": "b3694200",
   "metadata": {},
   "source": [
    "- Load English tokenizer, tagger, parser and NER"
   ]
  },
  {
   "cell_type": "code",
   "execution_count": 4,
   "id": "117aa8b6",
   "metadata": {},
   "outputs": [],
   "source": [
    "nlp = spacy.load(\"en_core_web_sm\")"
   ]
  },
  {
   "cell_type": "code",
   "execution_count": 7,
   "id": "d28261e4",
   "metadata": {},
   "outputs": [],
   "source": [
    "doc = nlp(\"google flew to mars yesterday. He carried burger with him\")"
   ]
  },
  {
   "cell_type": "markdown",
   "id": "54366a29",
   "metadata": {},
   "source": [
    "- Here, two attributes of the Token class are accessed:\n",
    "\n",
    "1. - .tag_ displays a fine-grained tag.\n",
    "2. - .pos_ displays a coarse-grained tag, which is a reduced version of the fine-grained tags"
   ]
  },
  {
   "cell_type": "code",
   "execution_count": 8,
   "id": "b01eb230",
   "metadata": {},
   "outputs": [
    {
     "name": "stdout",
     "output_type": "stream",
     "text": [
      "google - PROPN\n",
      "flew - VERB\n",
      "to - ADP\n",
      "mars - NOUN\n",
      "yesterday - NOUN\n",
      ". - PUNCT\n",
      "He - PRON\n",
      "carried - VERB\n",
      "burger - NOUN\n",
      "with - ADP\n",
      "him - PRON\n"
     ]
    }
   ],
   "source": [
    "for i in doc:\n",
    "    print(i, \"-\", i.pos_)"
   ]
  },
  {
   "cell_type": "code",
   "execution_count": 9,
   "id": "326b62e1",
   "metadata": {},
   "outputs": [
    {
     "name": "stdout",
     "output_type": "stream",
     "text": [
      "google - proper noun\n",
      "flew - verb\n",
      "to - adposition\n",
      "mars - noun\n",
      "yesterday - noun\n",
      ". - punctuation\n",
      "He - pronoun\n",
      "carried - verb\n",
      "burger - noun\n",
      "with - adposition\n",
      "him - pronoun\n"
     ]
    }
   ],
   "source": [
    "for i in doc:\n",
    "    print(i, \"-\", spacy.explain(i.pos_))"
   ]
  },
  {
   "cell_type": "markdown",
   "id": "30ba9a81",
   "metadata": {},
   "source": [
    "- explain() to give descriptive details about a particular POS tag"
   ]
  },
  {
   "cell_type": "code",
   "execution_count": 10,
   "id": "75817c5d",
   "metadata": {},
   "outputs": [
    {
     "name": "stdout",
     "output_type": "stream",
     "text": [
      "google - PROPN - proper noun\n",
      "flew - VERB - verb\n",
      "to - ADP - adposition\n",
      "mars - NOUN - noun\n",
      "yesterday - NOUN - noun\n",
      ". - PUNCT - punctuation\n",
      "He - PRON - pronoun\n",
      "carried - VERB - verb\n",
      "burger - NOUN - noun\n",
      "with - ADP - adposition\n",
      "him - PRON - pronoun\n"
     ]
    }
   ],
   "source": [
    "for i in doc:\n",
    "    print(i, \"-\",i.pos_, \"-\", spacy.explain(i.pos_))"
   ]
  },
  {
   "cell_type": "code",
   "execution_count": 11,
   "id": "c449d9ce",
   "metadata": {},
   "outputs": [
    {
     "name": "stdout",
     "output_type": "stream",
     "text": [
      "google - 96\n",
      "flew - 100\n",
      "to - 85\n",
      "mars - 92\n",
      "yesterday - 92\n",
      ". - 97\n",
      "He - 95\n",
      "carried - 100\n",
      "burger - 92\n",
      "with - 85\n",
      "him - 95\n"
     ]
    }
   ],
   "source": [
    "for i in doc:\n",
    "    print(i, \"-\", i.pos)"
   ]
  },
  {
   "cell_type": "code",
   "execution_count": 19,
   "id": "4ede41b8",
   "metadata": {},
   "outputs": [],
   "source": [
    "doc1 = nlp(\"Wow ! Dr.Strange movie has earned $455 billion dollar in ten days\")"
   ]
  },
  {
   "cell_type": "code",
   "execution_count": 20,
   "id": "ea748d34",
   "metadata": {},
   "outputs": [
    {
     "name": "stdout",
     "output_type": "stream",
     "text": [
      "Wow - INTJ\n",
      "! - PUNCT\n",
      "Dr. - PROPN\n",
      "Strange - PROPN\n",
      "movie - NOUN\n",
      "has - AUX\n",
      "earned - VERB\n",
      "$ - SYM\n",
      "455 - NUM\n",
      "billion - NUM\n",
      "dollar - NOUN\n",
      "in - ADP\n",
      "ten - NUM\n",
      "days - NOUN\n"
     ]
    }
   ],
   "source": [
    "for i in doc1:\n",
    "    print(i, \"-\", i.pos_)"
   ]
  },
  {
   "cell_type": "code",
   "execution_count": 21,
   "id": "b5ab7bb3",
   "metadata": {},
   "outputs": [
    {
     "name": "stdout",
     "output_type": "stream",
     "text": [
      "Wow - INTJ - interjection\n",
      "! - PUNCT - punctuation mark, sentence closer\n",
      "Dr. - PROPN - noun, proper singular\n",
      "Strange - PROPN - noun, proper singular\n",
      "movie - NOUN - noun, singular or mass\n",
      "has - AUX - verb, 3rd person singular present\n",
      "earned - VERB - verb, past participle\n",
      "$ - SYM - symbol, currency\n",
      "455 - NUM - cardinal number\n",
      "billion - NUM - cardinal number\n",
      "dollar - NOUN - noun, singular or mass\n",
      "in - ADP - conjunction, subordinating or preposition\n",
      "ten - NUM - cardinal number\n",
      "days - NOUN - noun, plural\n"
     ]
    }
   ],
   "source": [
    "for i in doc1:\n",
    "     print(i, \"-\", i.pos_, \"-\", spacy.explain(i.tag_))"
   ]
  },
  {
   "cell_type": "code",
   "execution_count": 5,
   "id": "c9ce3e96",
   "metadata": {},
   "outputs": [],
   "source": [
    "sent = \"One of the essential parts of spaCy is its ability to create and use custom models for specific NLP tasks, such as named entity recognition or part-of-speech tagging. \""
   ]
  },
  {
   "cell_type": "code",
   "execution_count": 6,
   "id": "99054164",
   "metadata": {},
   "outputs": [],
   "source": [
    "doc = nlp(sent)"
   ]
  },
  {
   "cell_type": "code",
   "execution_count": 25,
   "id": "53c8f2ca",
   "metadata": {},
   "outputs": [],
   "source": [
    "final = []\n",
    "for i in doc:\n",
    "    if i.pos_ == 'VERB' or i.pos_ == 'ADV' or i.pos_ == 'ADJ':\n",
    "        final.append(i)"
   ]
  },
  {
   "cell_type": "code",
   "execution_count": 26,
   "id": "a479b68e",
   "metadata": {},
   "outputs": [
    {
     "data": {
      "text/plain": [
       "[essential, create, use, specific, such, named]"
      ]
     },
     "execution_count": 26,
     "metadata": {},
     "output_type": "execute_result"
    }
   ],
   "source": [
    "final"
   ]
  },
  {
   "cell_type": "markdown",
   "id": "cadca245",
   "metadata": {},
   "source": [
    "- another way "
   ]
  },
  {
   "cell_type": "code",
   "execution_count": 29,
   "id": "055f420d",
   "metadata": {},
   "outputs": [],
   "source": [
    "final = []\n",
    "for i in doc:\n",
    "    if i.pos_ in ['VERB', 'ADV', 'ADJ']:\n",
    "        final.append(i)"
   ]
  },
  {
   "cell_type": "code",
   "execution_count": 30,
   "id": "6f9c942b",
   "metadata": {},
   "outputs": [
    {
     "data": {
      "text/plain": [
       "[essential, create, use, specific, such, named]"
      ]
     },
     "execution_count": 30,
     "metadata": {},
     "output_type": "execute_result"
    }
   ],
   "source": [
    "final"
   ]
  },
  {
   "cell_type": "markdown",
   "id": "7a713a37",
   "metadata": {},
   "source": [
    "- Opposite of above result"
   ]
  },
  {
   "cell_type": "code",
   "execution_count": 31,
   "id": "2093ac78",
   "metadata": {},
   "outputs": [],
   "source": [
    "final = []\n",
    "for i in doc:\n",
    "    if i.pos_ not in ['VERB', 'ADV', 'ADJ']:\n",
    "        final.append(i)"
   ]
  },
  {
   "cell_type": "code",
   "execution_count": 32,
   "id": "f2f43d73",
   "metadata": {},
   "outputs": [
    {
     "data": {
      "text/plain": [
       "[One,\n",
       " of,\n",
       " the,\n",
       " parts,\n",
       " of,\n",
       " spaCy,\n",
       " is,\n",
       " its,\n",
       " ability,\n",
       " to,\n",
       " and,\n",
       " custom,\n",
       " models,\n",
       " for,\n",
       " NLP,\n",
       " tasks,\n",
       " ,,\n",
       " as,\n",
       " entity,\n",
       " recognition,\n",
       " or,\n",
       " part,\n",
       " -,\n",
       " of,\n",
       " -,\n",
       " speech,\n",
       " tagging,\n",
       " .]"
      ]
     },
     "execution_count": 32,
     "metadata": {},
     "output_type": "execute_result"
    }
   ],
   "source": [
    "final"
   ]
  },
  {
   "cell_type": "markdown",
   "id": "5bbbb9fb",
   "metadata": {},
   "source": [
    "- Creating dictionary to count no. of POS"
   ]
  },
  {
   "cell_type": "code",
   "execution_count": 34,
   "id": "96fe2d12",
   "metadata": {},
   "outputs": [],
   "source": [
    "count = doc.count_by(spacy.attrs.POS)"
   ]
  },
  {
   "cell_type": "code",
   "execution_count": 35,
   "id": "f8ba24dd",
   "metadata": {},
   "outputs": [
    {
     "data": {
      "text/plain": [
       "{93: 1,\n",
       " 85: 5,\n",
       " 90: 1,\n",
       " 84: 3,\n",
       " 92: 10,\n",
       " 96: 2,\n",
       " 87: 1,\n",
       " 95: 1,\n",
       " 94: 1,\n",
       " 100: 3,\n",
       " 89: 2,\n",
       " 97: 4}"
      ]
     },
     "execution_count": 35,
     "metadata": {},
     "output_type": "execute_result"
    }
   ],
   "source": [
    "count"
   ]
  },
  {
   "cell_type": "markdown",
   "id": "85d7c628",
   "metadata": {},
   "source": [
    "- if you want name of that POS then"
   ]
  },
  {
   "cell_type": "code",
   "execution_count": 36,
   "id": "b4231bf8",
   "metadata": {},
   "outputs": [
    {
     "data": {
      "text/plain": [
       "'SCONJ'"
      ]
     },
     "execution_count": 36,
     "metadata": {},
     "output_type": "execute_result"
    }
   ],
   "source": [
    "doc.vocab[98].text"
   ]
  },
  {
   "cell_type": "code",
   "execution_count": 37,
   "id": "8a8b774a",
   "metadata": {},
   "outputs": [
    {
     "name": "stdout",
     "output_type": "stream",
     "text": [
      "NUM : 1\n",
      "ADP : 5\n",
      "DET : 1\n",
      "ADJ : 3\n",
      "NOUN : 10\n",
      "PROPN : 2\n",
      "AUX : 1\n",
      "PRON : 1\n",
      "PART : 1\n",
      "VERB : 3\n",
      "CCONJ : 2\n",
      "PUNCT : 4\n"
     ]
    }
   ],
   "source": [
    "for i, j in count.items():\n",
    "    print((doc.vocab[i].text), \":\", j)"
   ]
  },
  {
   "cell_type": "markdown",
   "id": "6a26d909",
   "metadata": {},
   "source": [
    "- explanation of each of above"
   ]
  },
  {
   "cell_type": "code",
   "execution_count": 38,
   "id": "b77eb1ce",
   "metadata": {},
   "outputs": [
    {
     "name": "stdout",
     "output_type": "stream",
     "text": [
      "numeral : 1\n",
      "adposition : 5\n",
      "determiner : 1\n",
      "adjective : 3\n",
      "noun : 10\n",
      "proper noun : 2\n",
      "auxiliary : 1\n",
      "pronoun : 1\n",
      "particle : 1\n",
      "verb : 3\n",
      "coordinating conjunction : 2\n",
      "punctuation : 4\n"
     ]
    }
   ],
   "source": [
    "for i, j in count.items():\n",
    "    print(spacy.explain(doc.vocab[i].text), \":\", j)"
   ]
  }
 ],
 "metadata": {
  "kernelspec": {
   "display_name": "Python 3 (ipykernel)",
   "language": "python",
   "name": "python3"
  },
  "language_info": {
   "codemirror_mode": {
    "name": "ipython",
    "version": 3
   },
   "file_extension": ".py",
   "mimetype": "text/x-python",
   "name": "python",
   "nbconvert_exporter": "python",
   "pygments_lexer": "ipython3",
   "version": "3.9.13"
  }
 },
 "nbformat": 4,
 "nbformat_minor": 5
}
